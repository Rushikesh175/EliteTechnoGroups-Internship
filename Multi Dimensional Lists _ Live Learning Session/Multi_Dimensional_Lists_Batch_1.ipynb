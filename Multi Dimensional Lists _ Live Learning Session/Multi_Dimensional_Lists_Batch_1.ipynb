{
  "nbformat": 4,
  "nbformat_minor": 0,
  "metadata": {
    "colab": {
      "name": "Multi Dimensional Lists - Batch 1",
      "provenance": []
    },
    "kernelspec": {
      "name": "python3",
      "display_name": "Python 3"
    },
    "language_info": {
      "name": "python"
    }
  },
  "cells": [
    {
      "cell_type": "code",
      "metadata": {
        "id": "yb9F2fCRbQZ_"
      },
      "source": [
        "lst = [1,2,3,4]"
      ],
      "execution_count": null,
      "outputs": []
    },
    {
      "cell_type": "code",
      "metadata": {
        "colab": {
          "base_uri": "https://localhost:8080/"
        },
        "id": "9qbbY_OnkKzr",
        "outputId": "f71f20ea-b0de-4163-a1f2-614dba4e62cc"
      },
      "source": [
        "type(lst)"
      ],
      "execution_count": null,
      "outputs": [
        {
          "output_type": "execute_result",
          "data": {
            "text/plain": [
              "list"
            ]
          },
          "metadata": {},
          "execution_count": 2
        }
      ]
    },
    {
      "cell_type": "code",
      "metadata": {
        "colab": {
          "base_uri": "https://localhost:8080/"
        },
        "id": "aNWzkt6lkLo4",
        "outputId": "c10fa35b-1106-4ee5-9fb3-10b29b638785"
      },
      "source": [
        "lst"
      ],
      "execution_count": null,
      "outputs": [
        {
          "output_type": "execute_result",
          "data": {
            "text/plain": [
              "[1, 2, 3, 4]"
            ]
          },
          "metadata": {},
          "execution_count": 3
        }
      ]
    },
    {
      "cell_type": "code",
      "metadata": {
        "id": "ASl39uoPkMGx"
      },
      "source": [
        ""
      ],
      "execution_count": null,
      "outputs": []
    },
    {
      "cell_type": "code",
      "metadata": {
        "id": "7i510b08kaKu"
      },
      "source": [
        ""
      ],
      "execution_count": null,
      "outputs": []
    },
    {
      "cell_type": "code",
      "metadata": {
        "id": "EaXksGlZkaNi"
      },
      "source": [
        "lst = [[1,2,3,4],\n",
        "       [1,2,3,4],\n",
        "       [1,2,3,4],\n",
        "       [1,2,3,4]]"
      ],
      "execution_count": null,
      "outputs": []
    },
    {
      "cell_type": "code",
      "metadata": {
        "colab": {
          "base_uri": "https://localhost:8080/"
        },
        "id": "8TOeE5DykaPx",
        "outputId": "67a2ac7b-2fd9-418e-bdf8-62d3ad6c8568"
      },
      "source": [
        "lst"
      ],
      "execution_count": null,
      "outputs": [
        {
          "output_type": "execute_result",
          "data": {
            "text/plain": [
              "[[1, 2, 3, 4], [1, 2, 3, 4], [1, 2, 3, 4], [1, 2, 3, 4]]"
            ]
          },
          "metadata": {},
          "execution_count": 5
        }
      ]
    },
    {
      "cell_type": "code",
      "metadata": {
        "id": "GD4E6fJxkgs1"
      },
      "source": [
        "lst = [[[1,2,3], [4,5,6],[7,8,9]], \n",
        "       [[1,2,3], [4,5,6],[7,8,9]], \n",
        "       [[1,2,3], [4,5,6],[7,8,9]]]"
      ],
      "execution_count": null,
      "outputs": []
    },
    {
      "cell_type": "code",
      "metadata": {
        "colab": {
          "base_uri": "https://localhost:8080/"
        },
        "id": "JZaulQgDkq-V",
        "outputId": "e35772c0-8e9b-4016-e1a8-d636ffea7f05"
      },
      "source": [
        "lst"
      ],
      "execution_count": null,
      "outputs": [
        {
          "output_type": "execute_result",
          "data": {
            "text/plain": [
              "[[[1, 2, 3], [4, 5, 6], [7, 8, 9]],\n",
              " [[1, 2, 3], [4, 5, 6], [7, 8, 9]],\n",
              " [[1, 2, 3], [4, 5, 6], [7, 8, 9]]]"
            ]
          },
          "metadata": {},
          "execution_count": 7
        }
      ]
    },
    {
      "cell_type": "code",
      "metadata": {
        "id": "1wBp4NaGkrAz"
      },
      "source": [
        "lsy"
      ],
      "execution_count": null,
      "outputs": []
    },
    {
      "cell_type": "code",
      "metadata": {
        "id": "J5wW53oBl_ii"
      },
      "source": [
        ""
      ],
      "execution_count": null,
      "outputs": []
    },
    {
      "cell_type": "code",
      "metadata": {
        "id": "DbKRDbRFl_k9"
      },
      "source": [
        "lst = [[1,2,3,4],\n",
        "       [5,6,7,8],\n",
        "       [7,8,9,0]]"
      ],
      "execution_count": null,
      "outputs": []
    },
    {
      "cell_type": "code",
      "metadata": {
        "colab": {
          "base_uri": "https://localhost:8080/"
        },
        "id": "Hjykz0uul_nE",
        "outputId": "1463ca07-e8a0-43ab-f4c2-6f43d1a48573"
      },
      "source": [
        "lst"
      ],
      "execution_count": null,
      "outputs": [
        {
          "output_type": "execute_result",
          "data": {
            "text/plain": [
              "[[1, 2, 3, 4], [5, 6, 7, 8], [7, 8, 9, 0]]"
            ]
          },
          "metadata": {},
          "execution_count": 12
        }
      ]
    },
    {
      "cell_type": "code",
      "metadata": {
        "colab": {
          "base_uri": "https://localhost:8080/"
        },
        "id": "F-v5DvfqmYmn",
        "outputId": "9d3ab8f2-0040-4d59-a5af-6c05baa9b419"
      },
      "source": [
        "lst[0]"
      ],
      "execution_count": null,
      "outputs": [
        {
          "output_type": "execute_result",
          "data": {
            "text/plain": [
              "[1, 2, 3, 4]"
            ]
          },
          "metadata": {},
          "execution_count": 13
        }
      ]
    },
    {
      "cell_type": "code",
      "metadata": {
        "colab": {
          "base_uri": "https://localhost:8080/"
        },
        "id": "R7lUv1YomlOp",
        "outputId": "8a0910e7-084d-48ec-fb10-abf8fe9eb396"
      },
      "source": [
        "lst[2]"
      ],
      "execution_count": null,
      "outputs": [
        {
          "output_type": "execute_result",
          "data": {
            "text/plain": [
              "[7, 8, 9, 0]"
            ]
          },
          "metadata": {},
          "execution_count": 14
        }
      ]
    },
    {
      "cell_type": "code",
      "metadata": {
        "colab": {
          "base_uri": "https://localhost:8080/"
        },
        "id": "HqPcieJumoqN",
        "outputId": "1665d906-8fff-4aa9-df72-96c356cc471a"
      },
      "source": [
        "lst[1 : ]"
      ],
      "execution_count": null,
      "outputs": [
        {
          "output_type": "execute_result",
          "data": {
            "text/plain": [
              "[[5, 6, 7, 8], [7, 8, 9, 0]]"
            ]
          },
          "metadata": {},
          "execution_count": 22
        }
      ]
    },
    {
      "cell_type": "code",
      "metadata": {
        "id": "5MyXVl8Jmzdc"
      },
      "source": [
        ""
      ],
      "execution_count": null,
      "outputs": []
    },
    {
      "cell_type": "code",
      "metadata": {
        "id": "yDZZ3vLmndrw"
      },
      "source": [
        "lst = [[[1,2,3], [2,5,6],[3,8,9]], \n",
        "       [[4,2,3], [5,5,6],[6,8,9]], \n",
        "       [[7,2,3], [8,5,6],[9,8,9]]]"
      ],
      "execution_count": null,
      "outputs": []
    },
    {
      "cell_type": "code",
      "metadata": {
        "colab": {
          "base_uri": "https://localhost:8080/"
        },
        "id": "Mxa1IaqPne-c",
        "outputId": "0f99d66e-f2ad-4552-c68b-8be48e7e0669"
      },
      "source": [
        "lst[2][1]"
      ],
      "execution_count": null,
      "outputs": [
        {
          "output_type": "execute_result",
          "data": {
            "text/plain": [
              "[8, 5, 6]"
            ]
          },
          "metadata": {},
          "execution_count": 28
        }
      ]
    },
    {
      "cell_type": "code",
      "metadata": {
        "id": "-RvEikUvnnYe"
      },
      "source": [
        "#      ['Roll', \"Name\"  ,\"Eng\",\"Sci\",\"Hin\",\"Math\"],\n",
        "\n",
        "lst = [[1,      \"Rahul\" ,  90 ,  85, 75, 70],\n",
        "       [2,      \"Jagrit\",  99 ,  85, 80, 50],\n",
        "       [3,      \"Roshan\",  33 ,  70, 85, 35]]"
      ],
      "execution_count": null,
      "outputs": []
    },
    {
      "cell_type": "code",
      "metadata": {
        "colab": {
          "base_uri": "https://localhost:8080/"
        },
        "id": "I7Ol8wV1o_Tv",
        "outputId": "69b8b638-4147-40e3-9e21-cabe7350aa0f"
      },
      "source": [
        "roll_no = int(input(\"Enter a roll no: \"))\n",
        "\n",
        "for i in lst:\n",
        "  if (roll_no == i[0]):\n",
        "    print(\"Name:\", i[1])\n",
        "    print(\"Eng:\",i[2])\n",
        "    print(\"Sci:\",i[3])\n",
        "    print(\"Hin:\",i[4])\n",
        "    print(\"Math:\",i[5])\n",
        "\n",
        "    print(((i[2] + i[3] + i[4] + i[5]) / 400)*100)"
      ],
      "execution_count": null,
      "outputs": [
        {
          "output_type": "stream",
          "text": [
            "Enter a roll no: 1\n",
            "Name: Rahul\n",
            "Eng: 90\n",
            "Sci: 85\n",
            "Hin: 75\n",
            "Math: 70\n",
            "80.0\n"
          ],
          "name": "stdout"
        }
      ]
    },
    {
      "cell_type": "code",
      "metadata": {
        "colab": {
          "base_uri": "https://localhost:8080/"
        },
        "id": "fSXU3u5ioT0e",
        "outputId": "8bff83f5-f70d-4c06-9718-dc039f8b16ab"
      },
      "source": [
        "lst[1][0]"
      ],
      "execution_count": null,
      "outputs": [
        {
          "output_type": "execute_result",
          "data": {
            "text/plain": [
              "2"
            ]
          },
          "metadata": {},
          "execution_count": 37
        }
      ]
    },
    {
      "cell_type": "code",
      "metadata": {
        "colab": {
          "base_uri": "https://localhost:8080/"
        },
        "id": "5D7AyzQ0o40_",
        "outputId": "efe2bd67-f126-4974-fa21-5d3565e66dd6"
      },
      "source": [
        "lst[2][0]"
      ],
      "execution_count": null,
      "outputs": [
        {
          "output_type": "execute_result",
          "data": {
            "text/plain": [
              "3"
            ]
          },
          "metadata": {},
          "execution_count": 38
        }
      ]
    },
    {
      "cell_type": "code",
      "metadata": {
        "colab": {
          "base_uri": "https://localhost:8080/"
        },
        "id": "ZSzt8gZDo6jM",
        "outputId": "546f6d2c-38dd-43e6-db7b-f7526e53208d"
      },
      "source": [
        "score = []\n",
        "\n",
        "for i in lst:\n",
        "\n",
        "  per = ((i[2] + i[3] + i[4] + i[5]) / 400)*100\n",
        "  print(per)\n",
        "\n",
        "  if (per < 100 and per > 90):\n",
        "    grade = \"A+\"\n",
        "  if (per < 89 and per > 79):\n",
        "    grade = \"A\"\n",
        "  if (per < 79 and per > 69):\n",
        "    grade = \"B+\"\n",
        "  if (per < 69 and per > 59):\n",
        "    grade = \"B\"\n",
        "  if (per < 59 and per > 49):\n",
        "    grade = \"F\"\n",
        "\n",
        "  score.append([i[0],i[1], per, grade])\n"
      ],
      "execution_count": null,
      "outputs": [
        {
          "output_type": "stream",
          "text": [
            "80.0\n",
            "78.5\n",
            "55.75\n"
          ],
          "name": "stdout"
        }
      ]
    },
    {
      "cell_type": "code",
      "metadata": {
        "colab": {
          "base_uri": "https://localhost:8080/"
        },
        "id": "qISQ4y93rmGW",
        "outputId": "a04a33c2-4cc0-488d-e517-b44534937695"
      },
      "source": [
        "score"
      ],
      "execution_count": null,
      "outputs": [
        {
          "output_type": "execute_result",
          "data": {
            "text/plain": [
              "[[1, 'Rahul', 80.0, 'A'], [2, 'Jagrit', 78.5, 'B+'], [3, 'Roshan', 55.75, 'F']]"
            ]
          },
          "metadata": {},
          "execution_count": 60
        }
      ]
    },
    {
      "cell_type": "code",
      "metadata": {
        "id": "TIdL86F2rreh"
      },
      "source": [
        ""
      ],
      "execution_count": null,
      "outputs": []
    }
  ]
}