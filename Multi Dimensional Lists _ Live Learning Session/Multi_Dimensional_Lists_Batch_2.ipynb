{
  "nbformat": 4,
  "nbformat_minor": 0,
  "metadata": {
    "colab": {
      "name": "Multi Dimensional Lists - Batch 2",
      "provenance": []
    },
    "kernelspec": {
      "name": "python3",
      "display_name": "Python 3"
    },
    "language_info": {
      "name": "python"
    }
  },
  "cells": [
    {
      "cell_type": "code",
      "metadata": {
        "id": "K-m0IQvRw_DR"
      },
      "source": [
        "lst = [1,2,3,4,5]"
      ],
      "execution_count": 1,
      "outputs": []
    },
    {
      "cell_type": "code",
      "metadata": {
        "colab": {
          "base_uri": "https://localhost:8080/"
        },
        "id": "HNxuzmF90-a7",
        "outputId": "39636fb1-b247-436f-c323-d88a85eea020"
      },
      "source": [
        "type(lst)"
      ],
      "execution_count": 2,
      "outputs": [
        {
          "output_type": "execute_result",
          "data": {
            "text/plain": [
              "list"
            ]
          },
          "metadata": {},
          "execution_count": 2
        }
      ]
    },
    {
      "cell_type": "code",
      "metadata": {
        "colab": {
          "base_uri": "https://localhost:8080/"
        },
        "id": "_kM6RJzM0_SQ",
        "outputId": "800af6a3-bf59-4c29-fb82-77766e1b3cde"
      },
      "source": [
        "lst"
      ],
      "execution_count": 3,
      "outputs": [
        {
          "output_type": "execute_result",
          "data": {
            "text/plain": [
              "[1, 2, 3, 4, 5]"
            ]
          },
          "metadata": {},
          "execution_count": 3
        }
      ]
    },
    {
      "cell_type": "code",
      "metadata": {
        "colab": {
          "base_uri": "https://localhost:8080/"
        },
        "id": "Cym2czHb1Gci",
        "outputId": "d257a2b8-40eb-4ce5-ece1-e0cdfe6bd9b1"
      },
      "source": [
        "lst[0]"
      ],
      "execution_count": 4,
      "outputs": [
        {
          "output_type": "execute_result",
          "data": {
            "text/plain": [
              "1"
            ]
          },
          "metadata": {},
          "execution_count": 4
        }
      ]
    },
    {
      "cell_type": "code",
      "metadata": {
        "id": "Sj0iKucY1L6H"
      },
      "source": [
        "lst = [[1,2,3,4],\n",
        "       [5,6,7,8],\n",
        "       [0,9,8,7]]"
      ],
      "execution_count": 17,
      "outputs": []
    },
    {
      "cell_type": "code",
      "metadata": {
        "colab": {
          "base_uri": "https://localhost:8080/"
        },
        "id": "omcCOeDx1oTA",
        "outputId": "4c51848c-0069-4365-8bfd-0e91f78914ef"
      },
      "source": [
        "lst[2][2]"
      ],
      "execution_count": 18,
      "outputs": [
        {
          "output_type": "execute_result",
          "data": {
            "text/plain": [
              "8"
            ]
          },
          "metadata": {},
          "execution_count": 18
        }
      ]
    },
    {
      "cell_type": "code",
      "metadata": {
        "id": "PI_WFiWH1z-s"
      },
      "source": [
        "lst = [[[1,0,0],[2,0,0],[3,0,0]],\n",
        "       [[4,0,0],[5,0,0],[6,0,0]],\n",
        "       [[7,0,0],[8,0,0],[9,0,0]]]"
      ],
      "execution_count": 20,
      "outputs": []
    },
    {
      "cell_type": "code",
      "metadata": {
        "colab": {
          "base_uri": "https://localhost:8080/"
        },
        "id": "wWKvibaD28YQ",
        "outputId": "bd229197-ce6f-43ab-d4d1-76e25bd71c3e"
      },
      "source": [
        "lst"
      ],
      "execution_count": 21,
      "outputs": [
        {
          "output_type": "execute_result",
          "data": {
            "text/plain": [
              "[[[1, 0, 0], [2, 0, 0], [3, 0, 0]],\n",
              " [[4, 0, 0], [5, 0, 0], [6, 0, 0]],\n",
              " [[7, 0, 0], [8, 0, 0], [9, 0, 0]]]"
            ]
          },
          "metadata": {},
          "execution_count": 21
        }
      ]
    },
    {
      "cell_type": "code",
      "metadata": {
        "colab": {
          "base_uri": "https://localhost:8080/"
        },
        "id": "WKd9LjYO29KG",
        "outputId": "e02671ee-0b99-46f3-effc-e94820798192"
      },
      "source": [
        "lst[2][1][0]"
      ],
      "execution_count": 23,
      "outputs": [
        {
          "output_type": "execute_result",
          "data": {
            "text/plain": [
              "8"
            ]
          },
          "metadata": {},
          "execution_count": 23
        }
      ]
    },
    {
      "cell_type": "code",
      "metadata": {
        "colab": {
          "base_uri": "https://localhost:8080/"
        },
        "id": "s2HIUtl73E8N",
        "outputId": "7b7739c0-3d14-4c0b-8054-ee1278a52995"
      },
      "source": [
        "lst[2][1]"
      ],
      "execution_count": 24,
      "outputs": [
        {
          "output_type": "execute_result",
          "data": {
            "text/plain": [
              "[8, 0, 0]"
            ]
          },
          "metadata": {},
          "execution_count": 24
        }
      ]
    },
    {
      "cell_type": "code",
      "metadata": {
        "id": "tpbyrap33ruy"
      },
      "source": [
        "#        Roll No, Name, Eng, Hin, Pun, Sci, Math\n",
        "\n",
        "record = [[1, \"Shivam\" , 75,  85, 75 , 86 , 86],\n",
        "          [2, \"Divya\"  , 85,  85, 76 , 96 , 82],\n",
        "          [3, \"Devansh\", 46,  65, 67 , 46 , 96],\n",
        "          [4, \"Dev\"    , 43,  55, 68 , 36 , 66]]"
      ],
      "execution_count": 46,
      "outputs": []
    },
    {
      "cell_type": "code",
      "metadata": {
        "colab": {
          "base_uri": "https://localhost:8080/"
        },
        "id": "LAVWskvl6Vu7",
        "outputId": "162a268e-570b-4855-a3f8-0282d9f300b3"
      },
      "source": [
        "record"
      ],
      "execution_count": 47,
      "outputs": [
        {
          "output_type": "execute_result",
          "data": {
            "text/plain": [
              "[[1, 'Shivam', 75, 85, 75, 86, 86],\n",
              " [2, 'Divya', 85, 85, 76, 96, 82],\n",
              " [3, 'Devansh', 46, 65, 67, 46, 96],\n",
              " [4, 'Dev', 43, 55, 68, 36, 66]]"
            ]
          },
          "metadata": {},
          "execution_count": 47
        }
      ]
    },
    {
      "cell_type": "code",
      "metadata": {
        "colab": {
          "base_uri": "https://localhost:8080/"
        },
        "id": "eSHJNgUm6yOQ",
        "outputId": "8c7a8160-0e61-4a51-90e6-231f50d7b162"
      },
      "source": [
        "for i in record:\n",
        "  print(i[0])"
      ],
      "execution_count": 48,
      "outputs": [
        {
          "output_type": "stream",
          "text": [
            "1\n",
            "2\n",
            "3\n",
            "4\n"
          ],
          "name": "stdout"
        }
      ]
    },
    {
      "cell_type": "code",
      "metadata": {
        "colab": {
          "base_uri": "https://localhost:8080/"
        },
        "id": "WUQ8uTqK6Wat",
        "outputId": "8a5d064e-72f2-4b07-acf0-21f1b4895267"
      },
      "source": [
        "roll_no = int(input(\"Enter the roll number: \"))\n",
        "\n",
        "for i in record:\n",
        "  if (i[0] == roll_no):\n",
        "    print(\"***********\")\n",
        "    print(\"Name: \",i[1])\n",
        "    print(\"Eng: \",i[2])\n",
        "    print(\"Hin: \",i[3])\n",
        "    print(\"Pun: \",i[4])\n",
        "    print(\"Sci: \",i[5])\n",
        "    print(\"Math: \",i[6])\n",
        "\n",
        "    avg = ((i[2] + i[3] + i[4] + i[5] + i[6])/500)*100\n",
        "\n",
        "    print(\"Average: \", avg)"
      ],
      "execution_count": 49,
      "outputs": [
        {
          "output_type": "stream",
          "text": [
            "Enter the roll number: 1\n",
            "***********\n",
            "Name:  Shivam\n",
            "Eng:  75\n",
            "Hin:  85\n",
            "Pun:  75\n",
            "Sci:  86\n",
            "Math:  86\n",
            "Average:  81.39999999999999\n"
          ],
          "name": "stdout"
        }
      ]
    },
    {
      "cell_type": "code",
      "metadata": {
        "id": "CvYfqyTt7GY2"
      },
      "source": [
        ""
      ],
      "execution_count": 49,
      "outputs": []
    },
    {
      "cell_type": "code",
      "metadata": {
        "id": "bOBcFLob846Y"
      },
      "source": [
        "data = []\n",
        "\n",
        "for i in record:\n",
        "  \n",
        "  avg = (i[2] + i[3] + i[4] + i[5] + i[6])/5\n",
        "\n",
        "  if (avg > 90 and avg < 100):\n",
        "    grade = \"A+\"\n",
        "  if (avg > 80 and avg < 90):\n",
        "    grade = \"A\"\n",
        "  if (avg > 70 and avg < 80):\n",
        "    grade = \"B+\"\n",
        "  if (avg > 60 and avg < 70):\n",
        "    grade = \"B\"\n",
        "  if (avg > 50 and avg < 60):\n",
        "    grade = \"C\"\n",
        "  if (avg < 50 ):\n",
        "    grade = \"F\"\n",
        "\n",
        "  data.append([i[0],i[1], avg, grade])"
      ],
      "execution_count": 54,
      "outputs": []
    },
    {
      "cell_type": "code",
      "metadata": {
        "colab": {
          "base_uri": "https://localhost:8080/"
        },
        "id": "S1ApHcwn9P-Y",
        "outputId": "e2e5ab38-ced6-459a-8bb5-08d9ce18971f"
      },
      "source": [
        "data"
      ],
      "execution_count": 55,
      "outputs": [
        {
          "output_type": "execute_result",
          "data": {
            "text/plain": [
              "[[1, 'Shivam', 81.4, 'A'],\n",
              " [2, 'Divya', 84.8, 'A'],\n",
              " [3, 'Devansh', 64.0, 'B'],\n",
              " [4, 'Dev', 53.6, 'C']]"
            ]
          },
          "metadata": {},
          "execution_count": 55
        }
      ]
    },
    {
      "cell_type": "code",
      "metadata": {
        "colab": {
          "base_uri": "https://localhost:8080/"
        },
        "id": "WNPTjuWX9wsb",
        "outputId": "de1b70f2-0b59-4782-a9f3-0edfc8bb4866"
      },
      "source": [
        "record"
      ],
      "execution_count": 56,
      "outputs": [
        {
          "output_type": "execute_result",
          "data": {
            "text/plain": [
              "[[1, 'Shivam', 75, 85, 75, 86, 86],\n",
              " [2, 'Divya', 85, 85, 76, 96, 82],\n",
              " [3, 'Devansh', 46, 65, 67, 46, 96],\n",
              " [4, 'Dev', 43, 55, 68, 36, 66]]"
            ]
          },
          "metadata": {},
          "execution_count": 56
        }
      ]
    },
    {
      "cell_type": "code",
      "metadata": {
        "colab": {
          "base_uri": "https://localhost:8080/"
        },
        "id": "QDouDL63_R0t",
        "outputId": "423c5dfa-a49d-4725-cfc5-f2b327e0ec16"
      },
      "source": [
        "for i in record:\n",
        "  print(sum(i[2:])/len(i[2:]))"
      ],
      "execution_count": 65,
      "outputs": [
        {
          "output_type": "stream",
          "text": [
            "81.4\n",
            "84.8\n",
            "64.0\n",
            "53.6\n"
          ],
          "name": "stdout"
        }
      ]
    },
    {
      "cell_type": "code",
      "metadata": {
        "colab": {
          "base_uri": "https://localhost:8080/"
        },
        "id": "c4pORiVo_eSM",
        "outputId": "08d079db-6cb8-4a8f-edd1-8ee841753630"
      },
      "source": [
        "record[0][0]"
      ],
      "execution_count": 59,
      "outputs": [
        {
          "output_type": "execute_result",
          "data": {
            "text/plain": [
              "1"
            ]
          },
          "metadata": {},
          "execution_count": 59
        }
      ]
    },
    {
      "cell_type": "code",
      "metadata": {
        "id": "QfP56mYl_fRq"
      },
      "source": [
        ""
      ],
      "execution_count": null,
      "outputs": []
    }
  ]
}