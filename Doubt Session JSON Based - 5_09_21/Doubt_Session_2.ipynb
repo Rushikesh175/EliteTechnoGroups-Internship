{
  "nbformat": 4,
  "nbformat_minor": 0,
  "metadata": {
    "colab": {
      "name": "Doubt Session - 2",
      "provenance": []
    },
    "kernelspec": {
      "name": "python3",
      "display_name": "Python 3"
    },
    "language_info": {
      "name": "python"
    }
  },
  "cells": [
    {
      "cell_type": "code",
      "metadata": {
        "id": "DDOqEPbJP9UC"
      },
      "source": [
        "dct = { 1 : {'name' : 'ashish', \"price\": 12 , \"qn\": 32, \"billi\": 123 },\n",
        "       2 : {'name' : 'ashish', \"price\": 12 , \"qn\": 32, \"billi\": 123 },\n",
        "       3 : {'name' : 'ashish', \"price\": 12 , \"qn\": 32, \"billi\": 123 }}"
      ],
      "execution_count": 9,
      "outputs": []
    },
    {
      "cell_type": "code",
      "metadata": {
        "id": "Um1hvTqnQXIi"
      },
      "source": [
        "dct[1]['qn'] = dct[1]['qn'] - 5"
      ],
      "execution_count": 14,
      "outputs": []
    },
    {
      "cell_type": "code",
      "metadata": {
        "colab": {
          "base_uri": "https://localhost:8080/"
        },
        "id": "87nCKa0hQdl1",
        "outputId": "ab171fa3-586d-4ec8-d796-50323776f046"
      },
      "source": [
        "dct"
      ],
      "execution_count": 15,
      "outputs": [
        {
          "output_type": "execute_result",
          "data": {
            "text/plain": [
              "{1: {'billi': 123, 'name': 'ashish', 'price': 12, 'qn': 27},\n",
              " 2: {'billi': 123, 'name': 'ashish', 'price': 12, 'qn': 32},\n",
              " 3: {'billi': 123, 'name': 'ashish', 'price': 12, 'qn': 32}}"
            ]
          },
          "metadata": {},
          "execution_count": 15
        }
      ]
    },
    {
      "cell_type": "code",
      "metadata": {
        "colab": {
          "base_uri": "https://localhost:8080/"
        },
        "id": "nbqBDjPkQf9s",
        "outputId": "dcdc52f9-28a6-4ed3-dc67-ceeb88d0acc9"
      },
      "source": [
        "if (1 in dct.keys()):\n",
        "  print(\"Prod Exist\")\n",
        "\n",
        "  dct[1]['qn'] = dct[1]['qn'] + 50\n",
        "\n",
        "else:\n",
        "  print('dosnt exist')\n",
        "\n",
        "\n",
        "  dct[1] =  {'billi': 123, 'name': 'ashish', 'price': 12, 'qn': 32}\n",
        "\n",
        "  \n",
        "  print(\"New product added to inventory\")"
      ],
      "execution_count": 38,
      "outputs": [
        {
          "output_type": "stream",
          "name": "stdout",
          "text": [
            "Prod Exist\n"
          ]
        }
      ]
    },
    {
      "cell_type": "code",
      "metadata": {
        "colab": {
          "base_uri": "https://localhost:8080/"
        },
        "id": "0puCovFGRz63",
        "outputId": "b76b3b5d-c313-4dec-862a-5a06c9eee53f"
      },
      "source": [
        "dct"
      ],
      "execution_count": 39,
      "outputs": [
        {
          "output_type": "execute_result",
          "data": {
            "text/plain": [
              "{1: {'billi': 123, 'name': 'ashish', 'price': 12, 'qn': 77},\n",
              " 2: {'billi': 123, 'name': 'ashish', 'price': 12, 'qn': 32},\n",
              " 3: {'billi': 123, 'name': 'ashish', 'price': 12, 'qn': 432},\n",
              " 4: {'billi': 123, 'name': 'ashish', 'price': 12, 'qn': 132}}"
            ]
          },
          "metadata": {},
          "execution_count": 39
        }
      ]
    },
    {
      "cell_type": "code",
      "metadata": {
        "id": "72fcZ96LSPUq"
      },
      "source": [
        "import time\n",
        "\n",
        "t = time.ctime()"
      ],
      "execution_count": 40,
      "outputs": []
    },
    {
      "cell_type": "code",
      "metadata": {
        "colab": {
          "base_uri": "https://localhost:8080/",
          "height": 35
        },
        "id": "A0FS_Yx_Ym7T",
        "outputId": "cb8088d8-5ecb-4163-9ac2-ca8e9487f66e"
      },
      "source": [
        "t"
      ],
      "execution_count": 41,
      "outputs": [
        {
          "output_type": "execute_result",
          "data": {
            "application/vnd.google.colaboratory.intrinsic+json": {
              "type": "string"
            },
            "text/plain": [
              "'Sun Sep  5 14:35:10 2021'"
            ]
          },
          "metadata": {},
          "execution_count": 41
        }
      ]
    },
    {
      "cell_type": "code",
      "metadata": {
        "id": "zIHvdGx8YnNA"
      },
      "source": [
        "dct[6] = {'billi': 123, 'name': 'ashish', 'price': 12, 'qn': 32, 'ex_date' : t}"
      ],
      "execution_count": 44,
      "outputs": []
    },
    {
      "cell_type": "code",
      "metadata": {
        "colab": {
          "base_uri": "https://localhost:8080/"
        },
        "id": "3QJHec0EYooR",
        "outputId": "fc6447c3-0efc-484e-e6f3-b1b6ebe0ce21"
      },
      "source": [
        "dct"
      ],
      "execution_count": 45,
      "outputs": [
        {
          "output_type": "execute_result",
          "data": {
            "text/plain": [
              "{1: {'billi': 123, 'name': 'ashish', 'price': 12, 'qn': 77},\n",
              " 2: {'billi': 123, 'name': 'ashish', 'price': 12, 'qn': 32},\n",
              " 3: {'billi': 123, 'name': 'ashish', 'price': 12, 'qn': 432},\n",
              " 4: {'billi': 123, 'name': 'ashish', 'price': 12, 'qn': 132},\n",
              " 5: {'billi': 123, 'name': 'ashish', 'price': 12, 'qn': 32},\n",
              " 6: {'billi': 123,\n",
              "  'ex_date': 'Sun Sep  5 14:35:10 2021',\n",
              "  'name': 'ashish',\n",
              "  'price': 12,\n",
              "  'qn': 32}}"
            ]
          },
          "metadata": {},
          "execution_count": 45
        }
      ]
    },
    {
      "cell_type": "code",
      "metadata": {
        "colab": {
          "base_uri": "https://localhost:8080/"
        },
        "id": "s3irxrtxY0hj",
        "outputId": "71ee9bd7-725f-4e6c-f761-3bbe44ebc12c"
      },
      "source": [
        "'1' in dct.keys()"
      ],
      "execution_count": 48,
      "outputs": [
        {
          "output_type": "execute_result",
          "data": {
            "text/plain": [
              "False"
            ]
          },
          "metadata": {},
          "execution_count": 48
        }
      ]
    },
    {
      "cell_type": "code",
      "metadata": {
        "colab": {
          "base_uri": "https://localhost:8080/"
        },
        "id": "ga_S65AVaIoe",
        "outputId": "c997250a-3f75-4e80-ff56-283fe2d969db"
      },
      "source": [
        "dct"
      ],
      "execution_count": 47,
      "outputs": [
        {
          "output_type": "execute_result",
          "data": {
            "text/plain": [
              "{1: {'billi': 123, 'name': 'ashish', 'price': 12, 'qn': 77},\n",
              " 2: {'billi': 123, 'name': 'ashish', 'price': 12, 'qn': 32},\n",
              " 3: {'billi': 123, 'name': 'ashish', 'price': 12, 'qn': 432},\n",
              " 4: {'billi': 123, 'name': 'ashish', 'price': 12, 'qn': 132},\n",
              " 5: {'billi': 123, 'name': 'ashish', 'price': 12, 'qn': 32},\n",
              " 6: {'billi': 123,\n",
              "  'ex_date': 'Sun Sep  5 14:35:10 2021',\n",
              "  'name': 'ashish',\n",
              "  'price': 12,\n",
              "  'qn': 32}}"
            ]
          },
          "metadata": {},
          "execution_count": 47
        }
      ]
    },
    {
      "cell_type": "code",
      "metadata": {
        "id": "lCh-1S2aaJqs"
      },
      "source": [
        "dct = {1: {'prod_id': ui_prod, 'name': ['cake','coffee','candy'], 'price': [300,50,5 ], 'qn': ui_qn}}"
      ],
      "execution_count": 51,
      "outputs": []
    },
    {
      "cell_type": "code",
      "metadata": {
        "colab": {
          "base_uri": "https://localhost:8080/"
        },
        "id": "eSX1gDO5d8Tk",
        "outputId": "bc0776ac-16c9-4b8b-b536-bdf40e30160c"
      },
      "source": [
        "dct[1]['prod_id']"
      ],
      "execution_count": 54,
      "outputs": [
        {
          "output_type": "execute_result",
          "data": {
            "text/plain": [
              "[1001, 1002, 1003]"
            ]
          },
          "metadata": {},
          "execution_count": 54
        }
      ]
    },
    {
      "cell_type": "code",
      "metadata": {
        "colab": {
          "base_uri": "https://localhost:8080/"
        },
        "id": "lDxkm0qpd81h",
        "outputId": "1f0a805a-98d8-4919-ad97-e3dccca4bb59"
      },
      "source": [
        "ui_prod = []\n",
        "ui_qn = []\n",
        "\n",
        "for i in range(100):\n",
        "  ui_prod.append(input(\"Enter prod ID: \"))\n",
        "  ui_qn.append(input(\"Enter prod QN: \"))\n",
        "\n",
        "  op = input(\"Y/N\")\n",
        "\n",
        "  if(op == \"N\"):\n",
        "    break"
      ],
      "execution_count": 55,
      "outputs": [
        {
          "name": "stdout",
          "output_type": "stream",
          "text": [
            "Enter prod ID: 1001\n",
            "Enter prod QN: 2\n",
            "Y/NY\n",
            "Enter prod ID: 1002\n",
            "Enter prod QN: 2\n",
            "Y/NY\n",
            "Enter prod ID: 1003\n",
            "Enter prod QN: 3\n",
            "Y/NN\n"
          ]
        }
      ]
    },
    {
      "cell_type": "code",
      "metadata": {
        "colab": {
          "base_uri": "https://localhost:8080/"
        },
        "id": "bgdnpQh4ep_q",
        "outputId": "17f4d511-eb9d-4ffd-aecd-d5c2b5d7003b"
      },
      "source": [
        "ui_prod"
      ],
      "execution_count": 56,
      "outputs": [
        {
          "output_type": "execute_result",
          "data": {
            "text/plain": [
              "['1001', '2', '1002', '2', '1003', '3']"
            ]
          },
          "metadata": {},
          "execution_count": 56
        }
      ]
    },
    {
      "cell_type": "code",
      "metadata": {
        "id": "hecl1hC7eySr"
      },
      "source": [
        "data = {'record': { 1 : {'prod_id': ui_prod, 'name': ['cake','coffee','candy'], 'price': [300,50,5 ], 'qn': ui_qn}},\n",
        "        \n",
        "\n",
        "        'transection' : {'prod_id': ui_prod, 'name': ['cake','coffee','candy'], 'price': [300,50,5 ], 'qn': ui_qn}}"
      ],
      "execution_count": 59,
      "outputs": []
    },
    {
      "cell_type": "code",
      "metadata": {
        "colab": {
          "base_uri": "https://localhost:8080/"
        },
        "id": "WcGyPGn-f3cD",
        "outputId": "d979df30-9331-4b4c-eca9-15b501b6af6b"
      },
      "source": [
        "data['record']"
      ],
      "execution_count": 61,
      "outputs": [
        {
          "output_type": "execute_result",
          "data": {
            "text/plain": [
              "{1: {'name': ['cake', 'coffee', 'candy'],\n",
              "  'price': [300, 50, 5],\n",
              "  'prod_id': ['1001', '2', '1002', '2', '1003', '3'],\n",
              "  'qn': []}}"
            ]
          },
          "metadata": {},
          "execution_count": 61
        }
      ]
    },
    {
      "cell_type": "code",
      "metadata": {
        "colab": {
          "base_uri": "https://localhost:8080/"
        },
        "id": "IrQ0yPGrgMPP",
        "outputId": "3c6b2570-85ea-4ea7-8c6e-0904a8a4d8fd"
      },
      "source": [
        "data['transection']"
      ],
      "execution_count": 63,
      "outputs": [
        {
          "output_type": "execute_result",
          "data": {
            "text/plain": [
              "{'name': ['cake', 'coffee', 'candy'],\n",
              " 'price': [300, 50, 5],\n",
              " 'prod_id': ['1001', '2', '1002', '2', '1003', '3'],\n",
              " 'qn': []}"
            ]
          },
          "metadata": {},
          "execution_count": 63
        }
      ]
    },
    {
      "cell_type": "code",
      "metadata": {
        "colab": {
          "base_uri": "https://localhost:8080/"
        },
        "id": "1JpVRs6qgPZ6",
        "outputId": "debc1f9a-abe2-42f8-cb2a-cc8724b5b3b1"
      },
      "source": [
        "data"
      ],
      "execution_count": 64,
      "outputs": [
        {
          "output_type": "execute_result",
          "data": {
            "text/plain": [
              "{'record': {1: {'name': ['cake', 'coffee', 'candy'],\n",
              "   'price': [300, 50, 5],\n",
              "   'prod_id': ['1001', '2', '1002', '2', '1003', '3'],\n",
              "   'qn': []}},\n",
              " 'transection': {'name': ['cake', 'coffee', 'candy'],\n",
              "  'price': [300, 50, 5],\n",
              "  'prod_id': ['1001', '2', '1002', '2', '1003', '3'],\n",
              "  'qn': []}}"
            ]
          },
          "metadata": {},
          "execution_count": 64
        }
      ]
    },
    {
      "cell_type": "code",
      "metadata": {
        "id": "-B2bw15CgUTK"
      },
      "source": [
        ""
      ],
      "execution_count": null,
      "outputs": []
    }
  ]
}