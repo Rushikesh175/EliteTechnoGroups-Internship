{
 "cells": [
  {
   "cell_type": "code",
   "execution_count": 26,
   "metadata": {},
   "outputs": [
    {
     "name": "stdout",
     "output_type": "stream",
     "text": [
      "Enter your name: Manoj\n",
      "Enter roll no: 3\n",
      "English marks: 67\n",
      "Hindi marks: 78\n",
      "Math marks: 98\n",
      "Science marks: 78\n",
      "Data Recorded in text file\n"
     ]
    }
   ],
   "source": [
    "fd = open(\"Record.txt\", \"a\")\n",
    "\n",
    "\n",
    "name = raw_input(\"Enter your name: \")\n",
    "roll = int(input(\"Enter roll no: \"))\n",
    "eng = int(input(\"English marks: \"))\n",
    "hin = int(input(\"Hindi marks: \"))\n",
    "math = int(input(\"Math marks: \"))\n",
    "sci = int(input(\"Science marks: \"))\n",
    "\n",
    "data = name + \",\" + str(roll) + \",\" + str(eng) + \",\" + str(hin) + \",\" + str(math) + \",\" + str(sci) + \"\\n\"\n",
    "\n",
    "\n",
    "fd.write(data)\n",
    "\n",
    "fd.close()\n",
    "\n",
    "print(\"Data Recorded in text file\")"
   ]
  }
 ],
 "metadata": {
  "kernelspec": {
   "display_name": "Python 2",
   "language": "python",
   "name": "python2"
  },
  "language_info": {
   "codemirror_mode": {
    "name": "ipython",
    "version": 2
   },
   "file_extension": ".py",
   "mimetype": "text/x-python",
   "name": "python",
   "nbconvert_exporter": "python",
   "pygments_lexer": "ipython2",
   "version": "2.7.16"
  }
 },
 "nbformat": 4,
 "nbformat_minor": 2
}
